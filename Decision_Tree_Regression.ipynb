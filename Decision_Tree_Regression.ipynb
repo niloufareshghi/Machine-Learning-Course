{
  "nbformat": 4,
  "nbformat_minor": 0,
  "metadata": {
    "colab": {
      "name": "Decision Tree Regression.ipynb",
      "provenance": [],
      "authorship_tag": "ABX9TyNyCryT1L08gV7VfS3zJDkp",
      "include_colab_link": true
    },
    "kernelspec": {
      "name": "python3",
      "display_name": "Python 3"
    },
    "language_info": {
      "name": "python"
    }
  },
  "cells": [
    {
      "cell_type": "markdown",
      "metadata": {
        "id": "view-in-github",
        "colab_type": "text"
      },
      "source": [
        "<a href=\"https://colab.research.google.com/github/niloufareshghi/Machine-Learning-Course/blob/main/Decision_Tree_Regression.ipynb\" target=\"_parent\"><img src=\"https://colab.research.google.com/assets/colab-badge.svg\" alt=\"Open In Colab\"/></a>"
      ]
    },
    {
      "cell_type": "markdown",
      "metadata": {
        "id": "58WZr3WheRTW"
      },
      "source": [
        "#Decision Tree Regression"
      ]
    },
    {
      "cell_type": "markdown",
      "metadata": {
        "id": "fIZZ-Oq0eRAv"
      },
      "source": [
        "##Importing the libraries"
      ]
    },
    {
      "cell_type": "code",
      "metadata": {
        "id": "DfeymEHeAtSu"
      },
      "source": [
        "import numpy as np\n",
        "import matplotlib.pyplot as plt\n",
        "import pandas as pd"
      ],
      "execution_count": 2,
      "outputs": []
    },
    {
      "cell_type": "markdown",
      "metadata": {
        "id": "ix-EHTZzet9R"
      },
      "source": [
        "##Importing the data set"
      ]
    },
    {
      "cell_type": "code",
      "metadata": {
        "id": "WN5_OdW2eu2d"
      },
      "source": [
        "dataset = pd.read_csv('Position_Salaries.csv')\n",
        "x = dataset.iloc[:, 1:-1].values\n",
        "y = dataset.iloc[:, -1].values"
      ],
      "execution_count": 5,
      "outputs": []
    },
    {
      "cell_type": "markdown",
      "metadata": {
        "id": "atiq8TPUe2zH"
      },
      "source": [
        "##Training the DTR on the whole data set"
      ]
    },
    {
      "cell_type": "code",
      "metadata": {
        "colab": {
          "base_uri": "https://localhost:8080/"
        },
        "id": "dj8oaI6weyDC",
        "outputId": "4aeffce8-5b0a-4877-9e7a-15e1e2d5d002"
      },
      "source": [
        "from sklearn.tree import DecisionTreeRegressor\n",
        "regressor = DecisionTreeRegressor(random_state=0)\n",
        "regressor.fit(x, y)"
      ],
      "execution_count": 6,
      "outputs": [
        {
          "output_type": "execute_result",
          "data": {
            "text/plain": [
              "DecisionTreeRegressor(ccp_alpha=0.0, criterion='mse', max_depth=None,\n",
              "                      max_features=None, max_leaf_nodes=None,\n",
              "                      min_impurity_decrease=0.0, min_impurity_split=None,\n",
              "                      min_samples_leaf=1, min_samples_split=2,\n",
              "                      min_weight_fraction_leaf=0.0, presort='deprecated',\n",
              "                      random_state=0, splitter='best')"
            ]
          },
          "metadata": {
            "tags": []
          },
          "execution_count": 6
        }
      ]
    },
    {
      "cell_type": "markdown",
      "metadata": {
        "id": "WYkjpCfRe38r"
      },
      "source": [
        "##Predicting a new result"
      ]
    },
    {
      "cell_type": "code",
      "metadata": {
        "colab": {
          "base_uri": "https://localhost:8080/"
        },
        "id": "AgCHAsukg1Vb",
        "outputId": "2a090c2d-5026-4ce1-ac29-56e9a4161d86"
      },
      "source": [
        "regressor.predict([[6.5]]) # the DTR model is not most accurate for a single feature database"
      ],
      "execution_count": 7,
      "outputs": [
        {
          "output_type": "execute_result",
          "data": {
            "text/plain": [
              "array([150000.])"
            ]
          },
          "metadata": {
            "tags": []
          },
          "execution_count": 7
        }
      ]
    },
    {
      "cell_type": "markdown",
      "metadata": {
        "id": "xMHTt7eug1z8"
      },
      "source": [
        "##Visualizing the DTR results"
      ]
    },
    {
      "cell_type": "code",
      "metadata": {
        "colab": {
          "base_uri": "https://localhost:8080/",
          "height": 295
        },
        "id": "_doquvyAj2SQ",
        "outputId": "59a63a01-7a34-4278-a1f9-1a390e4c3678"
      },
      "source": [
        "xgrid = np.arange(min(x), max(x), 0.1)\n",
        "xgrid = xgrid.reshape(len(xgrid), 1)\n",
        "plt.scatter(x, y, color='red')\n",
        "plt.plot(xgrid, regressor.predict(xgrid), color='blue')\n",
        "plt.title('Decision Tree Regression model')\n",
        "plt.xlabel('Position Level')\n",
        "plt.ylabel('Salary')\n",
        "plt.show()"
      ],
      "execution_count": 8,
      "outputs": [
        {
          "output_type": "display_data",
          "data": {
            "image/png": "[encoded data removed]",
            "text/plain": [
              "<Figure size 432x288 with 1 Axes>"
            ]
          },
          "metadata": {
            "tags": [],
            "needs_background": "light"
          }
        }
      ]
    }
  ]
}