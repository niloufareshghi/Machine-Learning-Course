{
  "nbformat": 4,
  "nbformat_minor": 0,
  "metadata": {
    "colab": {
      "name": "Polynomial Regression.ipynb",
      "provenance": [],
      "mount_file_id": "1W6HtdJBnzmC_fOmKsQVXymkTPW1Mrru2",
      "authorship_tag": "ABX9TyMh6oOBB0IDa8MH0AxG0ijN",
      "include_colab_link": true
    },
    "kernelspec": {
      "name": "python3",
      "display_name": "Python 3"
    },
    "language_info": {
      "name": "python"
    }
  },
  "cells": [
    {
      "cell_type": "markdown",
      "metadata": {
        "id": "view-in-github",
        "colab_type": "text"
      },
      "source": [
        "<a href=\"https://colab.research.google.com/github/niloufareshghi/Machine-Learning-Course/blob/main/Polynomial_Regression.ipynb\" target=\"_parent\"><img src=\"https://colab.research.google.com/assets/colab-badge.svg\" alt=\"Open In Colab\"/></a>"
      ]
    },
    {
      "cell_type": "markdown",
      "metadata": {
        "id": "9v9Q_0XmtPUQ"
      },
      "source": [
        "#Polynomial Regrssion"
      ]
    },
    {
      "cell_type": "markdown",
      "metadata": {
        "id": "m2JpdI70tWA_"
      },
      "source": [
        "##Importing the libraries"
      ]
    },
    {
      "cell_type": "code",
      "metadata": {
        "id": "FjnmdyPLD2tS"
      },
      "source": [
        "import numpy as np\n",
        "import matplotlib.pyplot as plt\n",
        "import pandas as pd"
      ],
      "execution_count": 3,
      "outputs": []
    },
    {
      "cell_type": "markdown",
      "metadata": {
        "id": "0xgfPgKVtbz3"
      },
      "source": [
        "##Importing the data set"
      ]
    },
    {
      "cell_type": "code",
      "metadata": {
        "id": "nQOdXhjXD_AE"
      },
      "source": [
        "dataset = pd.read_csv('Position_Salaries.csv')\n",
        "x = dataset.iloc[:, 1:-1].values #we don't include the position name column\n",
        "y = dataset.iloc[:, -1].values"
      ],
      "execution_count": 7,
      "outputs": []
    },
    {
      "cell_type": "markdown",
      "metadata": {
        "id": "WlCwG1tGtcRS"
      },
      "source": [
        "##Training the LR model on the whole data set"
      ]
    },
    {
      "cell_type": "code",
      "metadata": {
        "colab": {
          "base_uri": "https://localhost:8080/"
        },
        "id": "LlxQ6exGOXTt",
        "outputId": "63434733-8b28-4b82-a764-39bb8feafd76"
      },
      "source": [
        "from sklearn.linear_model import LinearRegression\n",
        "lr_regressor = LinearRegression()\n",
        "lr_regressor.fit(x, y)"
      ],
      "execution_count": 8,
      "outputs": [
        {
          "output_type": "execute_result",
          "data": {
            "text/plain": [
              "LinearRegression(copy_X=True, fit_intercept=True, n_jobs=None, normalize=False)"
            ]
          },
          "metadata": {
            "tags": []
          },
          "execution_count": 8
        }
      ]
    },
    {
      "cell_type": "markdown",
      "metadata": {
        "id": "ZjdwXbnutcU-"
      },
      "source": [
        "##Training the PR model on the whole data set"
      ]
    },
    {
      "cell_type": "code",
      "metadata": {
        "colab": {
          "base_uri": "https://localhost:8080/"
        },
        "id": "_I9aElfnOjOc",
        "outputId": "e577a5b3-1b12-477f-e7fc-75c83a78108a"
      },
      "source": [
        "from sklearn.preprocessing import PolynomialFeatures\n",
        "polyf = PolynomialFeatures(degree=5)\n",
        "x_poly = polyf.fit_transform(x)\n",
        "poly_reg = LinearRegression()\n",
        "poly_reg.fit(x_poly, y)"
      ],
      "execution_count": 23,
      "outputs": [
        {
          "output_type": "execute_result",
          "data": {
            "text/plain": [
              "LinearRegression(copy_X=True, fit_intercept=True, n_jobs=None, normalize=False)"
            ]
          },
          "metadata": {
            "tags": []
          },
          "execution_count": 23
        }
      ]
    },
    {
      "cell_type": "markdown",
      "metadata": {
        "id": "MBtW3BwOOj9D"
      },
      "source": [
        "##Visualizing the LR results"
      ]
    },
    {
      "cell_type": "code",
      "metadata": {
        "colab": {
          "base_uri": "https://localhost:8080/",
          "height": 295
        },
        "id": "ivDbzx6mRJkY",
        "outputId": "f948e915-4391-4b1f-fb53-417fab4db632"
      },
      "source": [
        "plt.scatter(x, y, color='red')\n",
        "plt.plot(x, lr_regressor.predict(x), color='blue')\n",
        "plt.title('Linear Regression Model')\n",
        "plt.xlabel('Levels')\n",
        "plt.ylabel('Salaries')\n",
        "plt.show()"
      ],
      "execution_count": 14,
      "outputs": [
        {
          "output_type": "display_data",
          "data": {
            "image/png": "[encoded data removed]",
            "text/plain": [
              "<Figure size 432x288 with 1 Axes>"
            ]
          },
          "metadata": {
            "tags": [],
            "needs_background": "light"
          }
        }
      ]
    },
    {
      "cell_type": "markdown",
      "metadata": {
        "id": "LMc7PcXyRGWP"
      },
      "source": [
        "##Visualizing the PR results"
      ]
    },
    {
      "cell_type": "code",
      "metadata": {
        "colab": {
          "base_uri": "https://localhost:8080/",
          "height": 295
        },
        "id": "ukZJMSw3RKUX",
        "outputId": "3581387e-09c5-43c5-8fe9-23f670e4aac2"
      },
      "source": [
        "plt.scatter(x, y, color='red')\n",
        "plt.plot(x, poly_reg.predict(x_poly), color='blue')\n",
        "plt.title('Polynomial Regression Model')\n",
        "plt.xlabel('Levels')\n",
        "plt.ylabel('Salaries')\n",
        "plt.show()"
      ],
      "execution_count": 24,
      "outputs": [
        {
          "output_type": "display_data",
          "data": {
            "image/png": "[encoded data removed]",
            "text/plain": [
              "<Figure size 432x288 with 1 Axes>"
            ]
          },
          "metadata": {
            "tags": [],
            "needs_background": "light"
          }
        }
      ]
    },
    {
      "cell_type": "markdown",
      "metadata": {
        "id": "9gTcecwTRGkM"
      },
      "source": [
        "##Predicting with the LR model"
      ]
    },
    {
      "cell_type": "code",
      "metadata": {
        "colab": {
          "base_uri": "https://localhost:8080/"
        },
        "id": "6u0H639MSpjz",
        "outputId": "53c790bf-3596-47f0-b735-74b4662ec2ea"
      },
      "source": [
        "lr_regressor.predict([[6.5]])"
      ],
      "execution_count": 25,
      "outputs": [
        {
          "output_type": "execute_result",
          "data": {
            "text/plain": [
              "array([330378.78787879])"
            ]
          },
          "metadata": {
            "tags": []
          },
          "execution_count": 25
        }
      ]
    },
    {
      "cell_type": "markdown",
      "metadata": {
        "id": "CTK1ro8KUdNZ"
      },
      "source": [
        "##Predicting with the PR model"
      ]
    },
    {
      "cell_type": "code",
      "metadata": {
        "colab": {
          "base_uri": "https://localhost:8080/"
        },
        "id": "gNxMmAeTUeVh",
        "outputId": "1c22a6de-0af7-4191-8b22-9d07967bbb7f"
      },
      "source": [
        "poly_reg.predict(polyf.fit_transform([[6.5]]))"
      ],
      "execution_count": 28,
      "outputs": [
        {
          "output_type": "execute_result",
          "data": {
            "text/plain": [
              "array([174878.07765172])"
            ]
          },
          "metadata": {
            "tags": []
          },
          "execution_count": 28
        }
      ]
    }
  ]
}