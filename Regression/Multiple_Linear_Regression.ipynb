{
  "nbformat": 4,
  "nbformat_minor": 0,
  "metadata": {
    "colab": {
      "name": "Multiple Linear Regression.ipynb",
      "provenance": [],
      "mount_file_id": "1xr-hd6vnwYsaIs89-zqPQDjsp8umrvlc",
      "authorship_tag": "ABX9TyOhvBUhTfUKCO+0Ds+mRGxv",
      "include_colab_link": true
    },
    "kernelspec": {
      "name": "python3",
      "display_name": "Python 3"
    },
    "language_info": {
      "name": "python"
    }
  },
  "cells": [
    {
      "cell_type": "markdown",
      "metadata": {
        "id": "view-in-github",
        "colab_type": "text"
      },
      "source": [
        "<a href=\"https://colab.research.google.com/github/niloufareshghi/Machine-Learning-Course/blob/main/Multiple_Linear_Regression.ipynb\" target=\"_parent\"><img src=\"https://colab.research.google.com/assets/colab-badge.svg\" alt=\"Open In Colab\"/></a>"
      ]
    },
    {
      "cell_type": "markdown",
      "metadata": {
        "id": "nPzwKdF4Czjf"
      },
      "source": [
        "#Multiple Linear Regression"
      ]
    },
    {
      "cell_type": "markdown",
      "metadata": {
        "id": "OqyoUHBxC4VT"
      },
      "source": [
        "##Importing the libraries"
      ]
    },
    {
      "cell_type": "code",
      "metadata": {
        "id": "x9badHl445t6"
      },
      "source": [
        "import numpy as np\n",
        "import matplotlib.pyplot as plt\n",
        "import pandas as pd"
      ],
      "execution_count": 1,
      "outputs": []
    },
    {
      "cell_type": "markdown",
      "metadata": {
        "id": "ClaoBkyjC9fx"
      },
      "source": [
        "##Importing the data set"
      ]
    },
    {
      "cell_type": "code",
      "metadata": {
        "id": "X8EyeN-35CNo"
      },
      "source": [
        "dataset = pd.read_csv('50_Startups.csv')\n",
        "x = dataset.iloc[:, :-1].values #feature matrix\n",
        "y = dataset.iloc[:, -1].values"
      ],
      "execution_count": 2,
      "outputs": []
    },
    {
      "cell_type": "markdown",
      "metadata": {
        "id": "8QNmiAQKDDIZ"
      },
      "source": [
        "##Encoding categorical data"
      ]
    },
    {
      "cell_type": "code",
      "metadata": {
        "id": "cQ97dCBsQH8n"
      },
      "source": [
        "from sklearn.compose import ColumnTransformer\n",
        "from sklearn.preprocessing import OneHotEncoder\n",
        "coltr = ColumnTransformer(transformers=[('encoder', OneHotEncoder(), [3])], remainder='passthrough')\n",
        "x = np.array(coltr.fit_transform(x))"
      ],
      "execution_count": 5,
      "outputs": []
    },
    {
      "cell_type": "markdown",
      "metadata": {
        "id": "BEynzSZ-DOsD"
      },
      "source": [
        "##Splitting the data set into training set and test set"
      ]
    },
    {
      "cell_type": "code",
      "metadata": {
        "id": "LJZ-gMgxSseP"
      },
      "source": [
        "from sklearn.model_selection import train_test_split\n",
        "x_train, x_test, y_train, y_test = train_test_split(x, y, test_size=0.2, random_state=1)"
      ],
      "execution_count": 7,
      "outputs": []
    },
    {
      "cell_type": "markdown",
      "metadata": {
        "id": "0mSH-qtHDXsz"
      },
      "source": [
        "##Training the MLR model on the training set"
      ]
    },
    {
      "cell_type": "code",
      "metadata": {
        "colab": {
          "base_uri": "https://localhost:8080/"
        },
        "id": "a-kC_orDGlJb",
        "outputId": "3043f34d-0153-487f-dd35-0e28295b7e8c"
      },
      "source": [
        "from sklearn.linear_model import LinearRegression\n",
        "regressor = LinearRegression()\n",
        "regressor.fit(x_train, y_train)"
      ],
      "execution_count": 8,
      "outputs": [
        {
          "output_type": "execute_result",
          "data": {
            "text/plain": [
              "LinearRegression(copy_X=True, fit_intercept=True, n_jobs=None, normalize=False)"
            ]
          },
          "metadata": {
            "tags": []
          },
          "execution_count": 8
        }
      ]
    },
    {
      "cell_type": "markdown",
      "metadata": {
        "id": "OPQgU3qOHQkJ"
      },
      "source": [
        "##Predicting the test results"
      ]
    },
    {
      "cell_type": "code",
      "metadata": {
        "colab": {
          "base_uri": "https://localhost:8080/"
        },
        "id": "qJetEgEyH-5I",
        "outputId": "5b38a6a9-5e18-4760-8f9c-a03677fbd28b"
      },
      "source": [
        "y_pred = regressor.predict(x_test)\n",
        "np.set_printoptions(precision=2)\n",
        "print(np.concatenate((y_pred.reshape(len(y_pred), 1 ), y_test.reshape(len(y_test), 1)), axis=1))\n",
        "# displaying the predicted vs the actual"
      ],
      "execution_count": 9,
      "outputs": [
        {
          "output_type": "stream",
          "text": [
            "[[114664.42 105008.31]\n",
            " [ 90593.16  96479.51]\n",
            " [ 75692.84  78239.91]\n",
            " [ 70221.89  81229.06]\n",
            " [179790.26 191050.39]\n",
            " [171576.92 182901.99]\n",
            " [ 49753.59  35673.41]\n",
            " [102276.66 101004.64]\n",
            " [ 58649.38  49490.75]\n",
            " [ 98272.03  97483.56]]\n"
          ],
          "name": "stdout"
        }
      ]
    }
  ]
}
